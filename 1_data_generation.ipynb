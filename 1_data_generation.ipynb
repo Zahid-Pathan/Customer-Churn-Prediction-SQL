{
 "cells": [
  {
   "cell_type": "code",
   "execution_count": 3,
   "id": "e9bbcb79",
   "metadata": {},
   "outputs": [],
   "source": [
    "import pandas as pd\n",
    "import numpy as np\n",
    "from faker import Faker\n",
    "import random\n",
    "import sqlite3\n",
    "from datetime import datetime, timedelta"
   ]
  },
  {
   "cell_type": "code",
   "execution_count": 4,
   "id": "ea156de6",
   "metadata": {},
   "outputs": [],
   "source": [
    "fake = Faker()\n",
    "np.random.seed(42)\n",
    "random.seed(42)"
   ]
  },
  {
   "cell_type": "code",
   "execution_count": 5,
   "id": "5adb9caa",
   "metadata": {},
   "outputs": [],
   "source": [
    "# --- Customers Table ---\n",
    "n_customers = 500\n",
    "customer_ids = list(range(1, n_customers + 1))\n",
    "\n",
    "customers = pd.DataFrame({\n",
    "    'customer_id': customer_ids,\n",
    "    'name': [fake.name() for _ in customer_ids],\n",
    "    'signup_date': [fake.date_between(start_date='-2y', end_date='-1d') for _ in customer_ids],\n",
    "    'plan_type': np.random.choice(['Free', 'Basic', 'Premium'], size=n_customers, p=[0.2, 0.5, 0.3]),\n",
    "    'country': np.random.choice(['US', 'DE', 'IN', 'BR', 'UK'], size=n_customers)\n",
    "})"
   ]
  },
  {
   "cell_type": "code",
   "execution_count": 6,
   "id": "1e01b2bd",
   "metadata": {},
   "outputs": [],
   "source": [
    "# --- Activity Logs ---\n",
    "activity_logs = []\n",
    "for cid in customer_ids:\n",
    "    for _ in range(random.randint(5, 30)):\n",
    "        activity_logs.append({\n",
    "            'log_id': len(activity_logs) + 1,\n",
    "            'customer_id': cid,\n",
    "            'event_type': random.choice(['login', 'stream', 'browse', 'cancel']),\n",
    "            'event_date': fake.date_between(start_date='-1y', end_date='today')\n",
    "        })\n",
    "activity_logs = pd.DataFrame(activity_logs)"
   ]
  },
  {
   "cell_type": "code",
   "execution_count": 7,
   "id": "00fea6e2",
   "metadata": {},
   "outputs": [],
   "source": [
    "# --- Payments ---\n",
    "payments = []\n",
    "for cid in customer_ids:\n",
    "    for _ in range(random.randint(1, 6)):\n",
    "        success = random.choice([True]*9 + [False])\n",
    "        payments.append({\n",
    "            'payment_id': len(payments) + 1,\n",
    "            'customer_id': cid,\n",
    "            'payment_date': fake.date_between(start_date='-1y', end_date='today'),\n",
    "            'amount': random.choice([10, 15, 20, 25]),\n",
    "            'success': success\n",
    "        })\n",
    "payments = pd.DataFrame(payments)\n"
   ]
  },
  {
   "cell_type": "code",
   "execution_count": 8,
   "id": "0b9e78df",
   "metadata": {},
   "outputs": [],
   "source": [
    "# --- Churned Customers ---\n",
    "churned_customers = customers.sample(frac=0.3, random_state=42)[['customer_id']]\n",
    "churned_customers['churn_date'] = churned_customers['customer_id'].apply(lambda _: fake.date_between(start_date='-6m', end_date='today'))"
   ]
  },
  {
   "cell_type": "code",
   "execution_count": 9,
   "id": "5a8028fb",
   "metadata": {},
   "outputs": [
    {
     "name": "stdout",
     "output_type": "stream",
     "text": [
      "✅ Synthetic data generated and saved to 'customer_churn.db'\n"
     ]
    }
   ],
   "source": [
    "# Save to SQLite for SQL querying\n",
    "conn = sqlite3.connect('customer_churn.db')\n",
    "customers.to_sql('customers', conn, index=False, if_exists='replace')\n",
    "activity_logs.to_sql('activity_logs', conn, index=False, if_exists='replace')\n",
    "payments.to_sql('payments', conn, index=False, if_exists='replace')\n",
    "churned_customers.to_sql('churned_customers', conn, index=False, if_exists='replace')\n",
    "\n",
    "conn.commit()\n",
    "conn.close()\n",
    "\n",
    "print(\"✅ Synthetic data generated and saved to 'customer_churn.db'\")"
   ]
  }
 ],
 "metadata": {
  "kernelspec": {
   "display_name": ".venv",
   "language": "python",
   "name": "python3"
  },
  "language_info": {
   "codemirror_mode": {
    "name": "ipython",
    "version": 3
   },
   "file_extension": ".py",
   "mimetype": "text/x-python",
   "name": "python",
   "nbconvert_exporter": "python",
   "pygments_lexer": "ipython3",
   "version": "3.9.7"
  }
 },
 "nbformat": 4,
 "nbformat_minor": 5
}
