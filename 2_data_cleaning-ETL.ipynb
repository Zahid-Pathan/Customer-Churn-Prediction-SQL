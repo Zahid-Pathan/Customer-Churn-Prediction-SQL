{
 "cells": [
  {
   "cell_type": "code",
   "execution_count": 1,
   "id": "14da65e8",
   "metadata": {},
   "outputs": [],
   "source": [
    "import sqlite3\n",
    "import pandas as pd\n",
    "\n",
    "# Connect to the SQLite database\n",
    "conn = sqlite3.connect('customer_churn.db')"
   ]
  },
  {
   "cell_type": "code",
   "execution_count": 2,
   "id": "9e7c43f7",
   "metadata": {},
   "outputs": [],
   "source": [
    "# --- SQL to clean and prepare ML-ready dataset ---\n",
    "query = \"\"\"\n",
    "SELECT \n",
    "    c.customer_id,\n",
    "    c.plan_type,\n",
    "    c.country,\n",
    "    COUNT(DISTINCT a.event_date) AS active_days,\n",
    "    SUM(CASE WHEN p.success = 1 THEN 1 ELSE 0 END) AS successful_payments,\n",
    "    MAX(p.payment_date) AS last_payment_date,\n",
    "    CASE WHEN ch.customer_id IS NOT NULL THEN 1 ELSE 0 END AS churned\n",
    "FROM customers c\n",
    "LEFT JOIN activity_logs a ON c.customer_id = a.customer_id\n",
    "LEFT JOIN payments p ON c.customer_id = p.customer_id\n",
    "LEFT JOIN churned_customers ch ON c.customer_id = ch.customer_id\n",
    "GROUP BY c.customer_id, c.plan_type, c.country, ch.customer_id;\n",
    "\"\"\""
   ]
  },
  {
   "cell_type": "code",
   "execution_count": 3,
   "id": "32d8afc9",
   "metadata": {},
   "outputs": [
    {
     "name": "stdout",
     "output_type": "stream",
     "text": [
      "✅ Cleaned data exported to 'cleaned_churn_data.csv'\n"
     ]
    }
   ],
   "source": [
    "# Execute the SQL query and load into pandas\n",
    "df_clean = pd.read_sql_query(query, conn)\n",
    "\n",
    "# Save to CSV for ML step\n",
    "df_clean.to_csv(\"cleaned_churn_data.csv\", index=False)\n",
    "\n",
    "conn.close()\n",
    "print(\"✅ Cleaned data exported to 'cleaned_churn_data.csv'\")"
   ]
  }
 ],
 "metadata": {
  "kernelspec": {
   "display_name": ".venv",
   "language": "python",
   "name": "python3"
  },
  "language_info": {
   "codemirror_mode": {
    "name": "ipython",
    "version": 3
   },
   "file_extension": ".py",
   "mimetype": "text/x-python",
   "name": "python",
   "nbconvert_exporter": "python",
   "pygments_lexer": "ipython3",
   "version": "3.9.7"
  }
 },
 "nbformat": 4,
 "nbformat_minor": 5
}
